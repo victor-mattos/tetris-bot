{
 "cells": [
  {
   "cell_type": "code",
   "execution_count": null,
   "metadata": {},
   "outputs": [
    {
     "name": "stderr",
     "output_type": "stream",
     "text": [
      "UserWarning: Using SDL2 binaries from pysdl2-dll 2.28.4\n"
     ]
    }
   ],
   "source": [
    "# Remove pacotes quebrados (opcional, força reinstalação limpa)\n",
    "!pip uninstall -y gym gymnasium pyboy stable-baselines3 numpy tensorboard\n",
    "\n",
    "# Instalar versões compatíveis\n",
    "!pip install numpy==1.26\n",
    "!pip install gym==0.26.2\n",
    "!pip install gymnasium==1.1.1\n",
    "!pip install stable-baselines3==2.1.0\n",
    "!pip install pyboy==1.6.9\n",
    "!pip install tensorboard==2.14.1\n",
    "!pip install pysdl2-dll==2.28.4\n"
   ]
  }
 ],
 "metadata": {
  "kernelspec": {
   "display_name": "conda3.11",
   "language": "python",
   "name": "python3"
  },
  "language_info": {
   "codemirror_mode": {
    "name": "ipython",
    "version": 3
   },
   "file_extension": ".py",
   "mimetype": "text/x-python",
   "name": "python",
   "nbconvert_exporter": "python",
   "pygments_lexer": "ipython3",
   "version": "3.12.0"
  }
 },
 "nbformat": 4,
 "nbformat_minor": 2
}
